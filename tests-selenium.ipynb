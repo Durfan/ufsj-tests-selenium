{
 "cells": [
  {
   "cell_type": "code",
   "execution_count": 15,
   "metadata": {},
   "outputs": [],
   "source": [
    "import os\n",
    "import unittest\n",
    "from selenium import webdriver\n",
    "from selenium.webdriver.common.by import By\n",
    "from selenium.webdriver.common.keys import Keys\n",
    "from selenium.webdriver.support import expected_conditions as EC\n",
    "from selenium.webdriver.support.wait import WebDriverWait\n",
    "from selenium.common.exceptions import NoSuchElementException"
   ]
  },
  {
   "attachments": {},
   "cell_type": "markdown",
   "metadata": {},
   "source": [
    "# unitTest Upload Images"
   ]
  },
  {
   "cell_type": "code",
   "execution_count": 16,
   "metadata": {},
   "outputs": [],
   "source": [
    "class ChromeUploadImage(unittest.TestCase):\n",
    "    def setUp(self):\n",
    "        self.driver = webdriver.Chrome()\n",
    "\n",
    "    def test_add_image(self):\n",
    "        driver = self.driver\n",
    "        driver.get(\"http://localhost:3000\")\n",
    "        wait = WebDriverWait(driver, 20)\n",
    "\n",
    "        btnAddImage = '//button[text()=\"Adicionar imagem\"]'\n",
    "        wait.until(EC.visibility_of_element_located((By.XPATH, btnAddImage)))\n",
    "        btnAddImage = driver.find_element(By.XPATH, btnAddImage)\n",
    "        btnAddImage.click()\n",
    "\n",
    "        inputImage = '//input[@type=\"file\"]'\n",
    "        writeImage = os.getcwd() + '/static/img/SMPTE_Color_Bars.png'\n",
    "        inputImage = driver.find_element(By.XPATH, inputImage)\n",
    "        inputImage.send_keys(writeImage)\n",
    "\n",
    "        uploadedImage = '//img[contains(@alt, \"Uploaded photo\")]'\n",
    "        wait.until(EC.visibility_of_element_located((By.XPATH, uploadedImage)))\n",
    "\n",
    "        inputTitle = '//input[@placeholder=\"Título da imagem...\"]'\n",
    "        writeTitle = \"SMPTE Color Bars\"\n",
    "        inputTitle = driver.find_element(By.XPATH, inputTitle)\n",
    "        inputTitle.send_keys(writeTitle)\n",
    "\n",
    "        inputDescription = '//input[@placeholder=\"Descrição da imagem...\"]'\n",
    "        writeDescription = \"SMPTE Color Bars Test Pattern\"\n",
    "        inputDescription = driver.find_element(By.XPATH, inputDescription)\n",
    "        inputDescription.send_keys(writeDescription)\n",
    "\n",
    "        inputSubmit = '//button[@type=\"submit\"]'\n",
    "        inputSubmit = driver.find_element(By.XPATH, inputSubmit)\n",
    "        inputSubmit.click()\n",
    "\n",
    "        success = '//div[contains(text(),\"Imagem cadastrada\")]'\n",
    "        success = wait.until(\n",
    "            EC.visibility_of_element_located((By.XPATH, success)))\n",
    "        self.assertEqual(\"Imagem cadastrada\", success.text)\n",
    "\n",
    "    def test_required_image(self):\n",
    "        driver = self.driver\n",
    "        driver.get(\"http://localhost:3000\")\n",
    "        wait = WebDriverWait(driver, 20)\n",
    "\n",
    "        btnAddImage = '//button[text()=\"Adicionar imagem\"]'\n",
    "        wait.until(EC.visibility_of_element_located((By.XPATH, btnAddImage)))\n",
    "        btnAddImage = driver.find_element(By.XPATH, btnAddImage)\n",
    "        btnAddImage.click()\n",
    "\n",
    "        inputImage = '//input[@type=\"file\"]'\n",
    "        inputImage = driver.find_element(By.XPATH, inputImage)\n",
    "\n",
    "        inputSubmit = '//button[@type=\"submit\"]'\n",
    "        inputSubmit = driver.find_element(By.XPATH, inputSubmit)\n",
    "        inputSubmit.click()\n",
    "\n",
    "        labelImage = '//label[@data-invalid]'\n",
    "        try:\n",
    "            labelImage = driver.find_element(By.XPATH, labelImage)\n",
    "            labelImage = True\n",
    "        except NoSuchElementException:\n",
    "            labelImage = False\n",
    "\n",
    "        self.assertEqual(True, labelImage)\n",
    "\n",
    "    def tearDown(self):\n",
    "        self.driver.quit()\n"
   ]
  },
  {
   "attachments": {},
   "cell_type": "markdown",
   "metadata": {},
   "source": [
    "# unitTest Load Images"
   ]
  },
  {
   "cell_type": "code",
   "execution_count": 17,
   "metadata": {},
   "outputs": [],
   "source": [
    "class ChromeLoadImages(unittest.TestCase):\n",
    "    def setUp(self):\n",
    "        self.driver = webdriver.Chrome()\n",
    "\n",
    "    def test_load_images(self):\n",
    "        driver = self.driver\n",
    "        driver.get(\"http://localhost:3000\")\n",
    "        wait = WebDriverWait(driver, 20)\n",
    "\n",
    "        btnElement = '//button[text()=\"Carregar mais\"]'\n",
    "        imagesElement = '//div[@class=\"css-0\"]'\n",
    "\n",
    "        wait.until(EC.visibility_of_element_located((By.XPATH, btnElement)))\n",
    "\n",
    "        imagesBefore = driver.find_elements(By.XPATH, imagesElement)\n",
    "\n",
    "        btnloadImages = driver.find_element(By.XPATH, btnElement)\n",
    "        btnloadImages.click()\n",
    "\n",
    "        wait.until(EC.visibility_of_element_located((By.XPATH, btnElement)))\n",
    "\n",
    "        imagesAfter = driver.find_elements(By.XPATH, imagesElement)\n",
    "        self.assertNotEqual(len(imagesBefore), len(imagesAfter))\n",
    "\n",
    "    def test_modal_up(self):\n",
    "        driver = self.driver\n",
    "        driver.get(\"http://localhost:3000\")\n",
    "        wait = WebDriverWait(driver, 20)\n",
    "\n",
    "        imagesElement = '//div[contains(@class,\"chakra-skeleton\")]//img[contains(@class,\"chakra-image\")]'\n",
    "        wait.until(EC.visibility_of_all_elements_located(\n",
    "            (By.XPATH, imagesElement)))\n",
    "\n",
    "        images = driver.find_elements(By.XPATH, imagesElement)\n",
    "        images[0].click()\n",
    "\n",
    "        modalImage = '//div[contains(@class,\"chakra-modal__body\")]//img[contains(@class,\"chakra-image\")]'\n",
    "        wait.until(EC.visibility_of_element_located((By.XPATH, modalImage)))\n",
    "        try:\n",
    "            modalImage = driver.find_element(By.XPATH, modalImage)\n",
    "            modalImage = True\n",
    "        except NoSuchElementException:\n",
    "            modalImage = False\n",
    "\n",
    "        self.assertEqual(True, modalImage)\n",
    "\n",
    "    def tearDown(self):\n",
    "        self.driver.quit()"
   ]
  },
  {
   "cell_type": "code",
   "execution_count": 18,
   "metadata": {},
   "outputs": [
    {
     "name": "stderr",
     "output_type": "stream",
     "text": [
      "test_load_images (__main__.ChromeLoadImages) ... ok\n",
      "test_modal_up (__main__.ChromeLoadImages) ... ok\n",
      "test_add_image (__main__.ChromeUploadImage) ... ok\n",
      "test_required_image (__main__.ChromeUploadImage) ... ok\n",
      "\n",
      "----------------------------------------------------------------------\n",
      "Ran 4 tests in 33.112s\n",
      "\n",
      "OK\n"
     ]
    },
    {
     "data": {
      "text/plain": [
       "<unittest.main.TestProgram at 0x7f86dc082680>"
      ]
     },
     "execution_count": 18,
     "metadata": {},
     "output_type": "execute_result"
    }
   ],
   "source": [
    "unittest.main(argv=[''], verbosity=2, exit=False)"
   ]
  },
  {
   "cell_type": "code",
   "execution_count": 44,
   "metadata": {},
   "outputs": [],
   "source": []
  }
 ],
 "metadata": {
  "kernelspec": {
   "display_name": ".venv",
   "language": "python",
   "name": "python3"
  },
  "language_info": {
   "codemirror_mode": {
    "name": "ipython",
    "version": 3
   },
   "file_extension": ".py",
   "mimetype": "text/x-python",
   "name": "python",
   "nbconvert_exporter": "python",
   "pygments_lexer": "ipython3",
   "version": "3.10.8"
  },
  "orig_nbformat": 4,
  "vscode": {
   "interpreter": {
    "hash": "ba65ab62cadd613ddfcde2af98ae4f7467977d963ed1b1ce549e9759e51c9bb8"
   }
  }
 },
 "nbformat": 4,
 "nbformat_minor": 2
}
